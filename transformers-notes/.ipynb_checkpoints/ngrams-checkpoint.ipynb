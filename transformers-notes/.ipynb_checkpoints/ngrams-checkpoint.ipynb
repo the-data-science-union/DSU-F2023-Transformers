{
 "cells": [
  {
   "cell_type": "code",
   "execution_count": null,
   "id": "7268172c-d8a0-4c4e-a136-08539d4b53cf",
   "metadata": {},
   "outputs": [],
   "source": []
  }
 ],
 "metadata": {
  "kernelspec": {
   "display_name": "Python 3",
   "language": "python",
   "name": "python3"
  },
  "language_info": {
   "codemirror_mode": {
    "name": "ipython",
    "version": 3
   },
   "file_extension": ".py",
   "mimetype": "text/x-python",
   "name": "python",
   "nbconvert_exporter": "python",
   "pygments_lexer": "ipython3",
   "version": "3.8.6"
  }
 },
 "nbformat": 4,
 "nbformat_minor": 5
}
